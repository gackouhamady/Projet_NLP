{
 "cells": [
  {
   "cell_type": "code",
   "execution_count": 5,
   "metadata": {},
   "outputs": [
    {
     "ename": "ModuleNotFoundError",
     "evalue": "No module named 'treetagger'",
     "output_type": "error",
     "traceback": [
      "\u001b[1;31m---------------------------------------------------------------------------\u001b[0m",
      "\u001b[1;31mModuleNotFoundError\u001b[0m                       Traceback (most recent call last)",
      "Cell \u001b[1;32mIn[5], line 1\u001b[0m\n\u001b[1;32m----> 1\u001b[0m \u001b[38;5;28;01mfrom\u001b[39;00m\u001b[38;5;250m \u001b[39m\u001b[38;5;21;01mtreetagger\u001b[39;00m\u001b[38;5;250m \u001b[39m\u001b[38;5;28;01mimport\u001b[39;00m TreeTagger\n",
      "\u001b[1;31mModuleNotFoundError\u001b[0m: No module named 'treetagger'"
     ]
    }
   ],
   "source": [
    "from treetagger import TreeTagger"
   ]
  },
  {
   "cell_type": "code",
   "execution_count": 3,
   "metadata": {},
   "outputs": [
    {
     "ename": "ModuleNotFoundError",
     "evalue": "No module named 'treetagger'",
     "output_type": "error",
     "traceback": [
      "\u001b[1;31m---------------------------------------------------------------------------\u001b[0m",
      "\u001b[1;31mModuleNotFoundError\u001b[0m                       Traceback (most recent call last)",
      "Cell \u001b[1;32mIn[3], line 2\u001b[0m\n\u001b[0;32m      1\u001b[0m \u001b[38;5;28;01mimport\u001b[39;00m\u001b[38;5;250m \u001b[39m\u001b[38;5;21;01mos\u001b[39;00m\n\u001b[1;32m----> 2\u001b[0m \u001b[38;5;28;01mfrom\u001b[39;00m\u001b[38;5;250m \u001b[39m\u001b[38;5;21;01mtreetagger\u001b[39;00m\u001b[38;5;250m \u001b[39m\u001b[38;5;28;01mimport\u001b[39;00m TreeTagger\n\u001b[0;32m      3\u001b[0m \u001b[38;5;28;01mimport\u001b[39;00m\u001b[38;5;250m \u001b[39m\u001b[38;5;21;01mnltk\u001b[39;00m\n\u001b[0;32m      4\u001b[0m \u001b[38;5;28;01mfrom\u001b[39;00m\u001b[38;5;250m \u001b[39m\u001b[38;5;21;01msklearn\u001b[39;00m\u001b[38;5;21;01m.\u001b[39;00m\u001b[38;5;21;01mmetrics\u001b[39;00m\u001b[38;5;250m \u001b[39m\u001b[38;5;28;01mimport\u001b[39;00m precision_score, recall_score, confusion_matrix\n",
      "\u001b[1;31mModuleNotFoundError\u001b[0m: No module named 'treetagger'"
     ]
    }
   ],
   "source": [
    "import os\n",
    "from treetagger import TreeTagger\n",
    "import nltk\n",
    "from sklearn.metrics import precision_score, recall_score, confusion_matrix\n",
    "from collections import defaultdict\n",
    "\n",
    "# 1. Charger les données du corpus\n",
    "# Assurons-nous que le corpus est téléchargé dans NLTK (par exemple, le Brown corpus)\n",
    "nltk.download('brown')\n",
    "from nltk.corpus import brown\n",
    "\n",
    "# 2. Fonction pour extraire les phrases contenant le mot 'that'\n",
    "def extract_that_sentences():\n",
    "    \"\"\"\n",
    "    Fonction pour extraire les phrases contenant le mot 'that' du corpus Brown.\n",
    "    Cette étape est cruciale pour analyser et réentraîner TreeTagger avec des phrases contenant 'that'.\n",
    "    \"\"\"\n",
    "    sentences_with_that = []\n",
    "    for sentence in brown.sents():\n",
    "        if 'that' in sentence:\n",
    "            sentences_with_that.append(' '.join(sentence))\n",
    "    return sentences_with_that\n",
    "\n",
    "# 3. Initialisation de TreeTagger\n",
    "# Assurez-vous que TreeTagger est installé et accessible via un chemin correct\n",
    "# Nous avons déjà téléchargé les modèles nécessaires à l'installation de TreeTagger.\n",
    "tagger = TreeTagger(TAGLANG='en')  # Langue anglaise pour le modèle de tagger\n",
    "\n",
    "# 4. Fonction pour annoter les phrases avec TreeTagger\n",
    "def tag_sentences(sentences):\n",
    "    \"\"\"\n",
    "    Fonction pour annoter les phrases avec TreeTagger.\n",
    "    \"\"\"\n",
    "    tagged_sentences = []\n",
    "    for sentence in sentences:\n",
    "        tagged = tagger.tag_text(sentence)\n",
    "        tagged_sentences.append(tagged)\n",
    "    return tagged_sentences\n",
    "\n",
    "# 5. Fonction pour réentraîner TreeTagger\n",
    "def retrain_treetagger(training_data_file, model_dir):\n",
    "    \"\"\"\n",
    "    Fonction pour réentraîner TreeTagger en utilisant les données d'entraînement annotées.\n",
    "    training_data_file : fichier contenant les données d'entraînement sous le format TreeTagger.\n",
    "    model_dir : répertoire où les modèles réentraînés seront stockés.\n",
    "    \"\"\"\n",
    "    os.system(f'tree-tagger -train {training_data_file} {model_dir}')\n",
    "    print(f\"Modèle réentraîné et sauvegardé dans {model_dir}\")\n",
    "\n",
    "# 6. Évaluation du modèle (précision et rappel)\n",
    "def evaluate_model(predictions, true_labels):\n",
    "    \"\"\"\n",
    "    Évaluer le modèle en calculant la précision et le rappel.\n",
    "    predictions : étiquettes prédites par TreeTagger.\n",
    "    true_labels : étiquettes réelles (ou étiquettes attendues).\n",
    "    \"\"\"\n",
    "    precision = precision_score(true_labels, predictions, average='macro')\n",
    "    recall = recall_score(true_labels, predictions, average='macro')\n",
    "    cm = confusion_matrix(true_labels, predictions)\n",
    "\n",
    "    print(f\"Précision : {precision}\")\n",
    "    print(f\"Rappel : {recall}\")\n",
    "    print(f\"Matrice de confusion :\\n{cm}\")\n",
    "    return precision, recall, cm\n",
    "\n",
    "# 7. Exemple de prédiction et évaluation avec les phrases 'that'\n",
    "def analyze_that_usage():\n",
    "    \"\"\"\n",
    "    Analyse l'utilisation de 'that' en prédictant ses étiquettes de partie du discours.\n",
    "    \"\"\"\n",
    "    sentences_with_that = extract_that_sentences()\n",
    "    tagged_sentences = tag_sentences(sentences_with_that)\n",
    "\n",
    "    # Exemple de récupération des résultats\n",
    "    true_labels = []  # Étiquettes réelles pour les phrases d'exemple\n",
    "    predictions = []  # Étiquettes prédites par TreeTagger\n",
    "\n",
    "    # Exemple d'annotations manuelles pour la précision\n",
    "    for sentence, tagged in zip(sentences_with_that, tagged_sentences):\n",
    "        for word, tag in tagged:\n",
    "            if word == 'that':\n",
    "                true_labels.append('CJT')  # Exemple pour le 'that' de complément nominal\n",
    "                predictions.append(tag)\n",
    "\n",
    "    # Évaluer les résultats\n",
    "    evaluate_model(predictions, true_labels)\n",
    "\n",
    "# 8. Bonus: Comparaison des performances entre le tagset BNC et Penn Treebank\n",
    "def compare_tagsets():\n",
    "    \"\"\"\n",
    "    Compare les performances de deux tagsets: Penn Treebank et BNC.\n",
    "    \"\"\"\n",
    "    penn_tagset = 'penn.par'  # Exemple d'initialisation du tagset Penn\n",
    "    bnc_tagset = 'bnc.par'  # Exemple d'initialisation du tagset BNC\n",
    "\n",
    "    # Comparaison avec deux ensembles de données différents\n",
    "    # Répétez les étapes d'entraînement et d'évaluation en utilisant différents fichiers de paramétrage\n",
    "    print(\"Comparaison entre les tagsets Penn et BNC...\")\n",
    "    # Réentraîner et évaluer pour les deux tagsets (ici simulé pour exemple)\n",
    "    # Vous pouvez créer une boucle ici pour automatiser le processus avec différents paramètres.\n",
    "    # Par exemple :\n",
    "    # retrain_treetagger(training_data_file, penn_tagset)\n",
    "    # retrain_treetagger(training_data_file, bnc_tagset)\n",
    "\n",
    "# 9. Mettre en œuvre l'annotation et la réannotation des phrases\n",
    "def reannotate_that():\n",
    "    \"\"\"\n",
    "    Implémente l'annotation et la réannotation des différentes réalisations de 'that'.\n",
    "    \"\"\"\n",
    "    sentences_with_that = extract_that_sentences()\n",
    "    tagged_sentences = tag_sentences(sentences_with_that)\n",
    "\n",
    "    # Exemple de réannotation avec des étiquettes spécifiques\n",
    "    for sentence, tagged in zip(sentences_with_that, tagged_sentences):\n",
    "        print(f\"Original Sentence: {sentence}\")\n",
    "        for word, tag in tagged:\n",
    "            if word == 'that':\n",
    "                # Exemple de réannotation pour 'that'\n",
    "                if tag == 'DT':\n",
    "                    print(f\"Reannotated as: 'that' as determiner (DT)\")\n",
    "                elif tag == 'CST':\n",
    "                    print(f\"Reannotated as: 'that' as conjunction (CST)\")\n",
    "                elif tag == 'WPR':\n",
    "                    print(f\"Reannotated as: 'that' as relative pronoun (WPR)\")\n",
    "                else:\n",
    "                    print(f\"Unkown tag for 'that': {tag}\")\n",
    "\n",
    "# 10. Appel des fonctions pour exécuter le processus\n",
    "if __name__ == \"__main__\":\n",
    "    analyze_that_usage()  # Analyser et évaluer l'utilisation de 'that'\n",
    "    compare_tagsets()     # Comparer les performances des tagsets Penn et BNC\n",
    "    reannotate_that()    # Réannoter les phrases avec 'that'\n"
   ]
  }
 ],
 "metadata": {
  "kernelspec": {
   "display_name": "venv",
   "language": "python",
   "name": "python3"
  },
  "language_info": {
   "codemirror_mode": {
    "name": "ipython",
    "version": 3
   },
   "file_extension": ".py",
   "mimetype": "text/x-python",
   "name": "python",
   "nbconvert_exporter": "python",
   "pygments_lexer": "ipython3",
   "version": "3.12.7"
  }
 },
 "nbformat": 4,
 "nbformat_minor": 2
}
  "cells": [
    {
      "cell_type": "markdown",
      "metadata": {
        "id": "view-in-github",
        "colab_type": "text"
      },
      "source": [
        "<a href=\"https://colab.research.google.com/github/gackouhamady/Projet_NLP/blob/main/Notebook.ipynb\" target=\"_parent\"><img src=\"https://colab.research.google.com/assets/colab-badge.svg\" alt=\"Open In Colab\"/></a>"
      ]
    },
    {
      "cell_type": "markdown",
      "source": [
        "# Projet :  Natural Language Processing :  Université Paris Cité : UFR :  Sciences Fondamentales et  Biomédicales Master 1 : AMSD"
      ],
      "metadata": {
        "id": "SBHMbSFqlMlR"
      }
    },
    {
      "cell_type": "code",
      "source": [],
      "metadata": {
        "id": "iZcnaoGilMQ6"
      },
      "execution_count": null,
      "outputs": []
    }
  ],
  "metadata": {
    "kernelspec": {
      "display_name": "Python (venv)",
      "language": "python",
      "name": "venv"
    },
    "language_info": {
      "name": "python",
      "version": "3.12.7"
    },
    "colab": {
      "provenance": [],
      "include_colab_link": true
    }
  },
  "nbformat": 4,
  "nbformat_minor": 0
}
